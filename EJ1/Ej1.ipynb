{
 "cells": [
  {
   "cell_type": "code",
   "execution_count": 1,
   "metadata": {},
   "outputs": [],
   "source": [
    "import pandas as pd\n",
    "from sklearn.model_selection import train_test_split\n",
    "from sklearn import linear_model\n",
    "from sklearn.metrics import r2_score"
   ]
  },
  {
   "cell_type": "code",
   "execution_count": 3,
   "metadata": {},
   "outputs": [],
   "source": [
    "data = pd.read_csv(\"2008bd.csv\")"
   ]
  },
  {
   "cell_type": "code",
   "execution_count": 42,
   "metadata": {},
   "outputs": [],
   "source": [
    "df = data.dropna(subset = [\"ArrDelay\"])\n",
    "df = df.sample(frac=1).head(1000)\n",
    "\n",
    "X = df[['AirTime', 'Distance', 'DepDelay']]\n",
    "Y = df['ArrDelay']"
   ]
  },
  {
   "cell_type": "code",
   "execution_count": 43,
   "metadata": {},
   "outputs": [],
   "source": [
    "X_tr, X_ts, Y_tr, Y_ts = train_test_split(X,Y, test_size =.2)"
   ]
  },
  {
   "cell_type": "code",
   "execution_count": 44,
   "metadata": {},
   "outputs": [
    {
     "name": "stdout",
     "output_type": "stream",
     "text": [
      "R2:  0.922441497324271\n",
      "R2:  0.9206081521202125\n"
     ]
    }
   ],
   "source": [
    "regrINTERNA = linear_model.LinearRegression()\n",
    "regrINTERNA.fit(X,Y)\n",
    "prediccionesINTERNA = regrINTERNA.predict(X)\n",
    "print(\"R2: \", r2_score(Y,prediccionesINTERNA))\n",
    "\n",
    "regrEXTERNA = linear_model.LinearRegression()\n",
    "regrEXTERNA.fit(X_tr,Y_tr)\n",
    "prediccionesEXTERNA = regrEXTERNA.predict(X_ts)\n",
    "print(\"R2: \", r2_score(Y_ts,prediccionesEXTERNA))"
   ]
  },
  {
   "cell_type": "code",
   "execution_count": null,
   "metadata": {},
   "outputs": [],
   "source": []
  },
  {
   "cell_type": "code",
   "execution_count": null,
   "metadata": {},
   "outputs": [],
   "source": []
  }
 ],
 "metadata": {
  "kernelspec": {
   "display_name": "Python 3",
   "language": "python",
   "name": "python3"
  },
  "language_info": {
   "codemirror_mode": {
    "name": "ipython",
    "version": 3
   },
   "file_extension": ".py",
   "mimetype": "text/x-python",
   "name": "python",
   "nbconvert_exporter": "python",
   "pygments_lexer": "ipython3",
   "version": "3.8.5"
  }
 },
 "nbformat": 4,
 "nbformat_minor": 4
}
